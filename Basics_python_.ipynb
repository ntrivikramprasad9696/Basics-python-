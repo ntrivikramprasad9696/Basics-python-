{
  "nbformat": 4,
  "nbformat_minor": 0,
  "metadata": {
    "colab": {
      "provenance": []
    },
    "kernelspec": {
      "name": "python3",
      "display_name": "Python 3"
    },
    "language_info": {
      "name": "python"
    }
  },
  "cells": [
    {
      "cell_type": "markdown",
      "source": [
        "#Print functions\n",
        "\n"
      ],
      "metadata": {
        "id": "Sc3lZK7JHGWs"
      }
    },
    {
      "cell_type": "code",
      "execution_count": 12,
      "metadata": {
        "colab": {
          "base_uri": "https://localhost:8080/"
        },
        "id": "Zg2Ibfm7F2sF",
        "outputId": "06da10f2-6eb6-4c68-f3fe-d232969ae12d"
      },
      "outputs": [
        {
          "output_type": "stream",
          "name": "stdout",
          "text": [
            "my name is nidiginti trivikram prasad\n"
          ]
        }
      ],
      "source": [
        "print(\"my name is nidiginti trivikram prasad\")"
      ]
    },
    {
      "cell_type": "code",
      "source": [
        "print('my name is nidiginti trivikram prasad')"
      ],
      "metadata": {
        "colab": {
          "base_uri": "https://localhost:8080/"
        },
        "id": "WklaxYjCGlhN",
        "outputId": "5bef62e8-cfac-4a33-d1f1-e9e8708b8067"
      },
      "execution_count": 13,
      "outputs": [
        {
          "output_type": "stream",
          "name": "stdout",
          "text": [
            "my name is nidiginti trivikram prasad\n"
          ]
        }
      ]
    },
    {
      "cell_type": "code",
      "source": [
        "print('nidiginti' + 'trivikram'+ 'prasad') # joining of two staements, "
      ],
      "metadata": {
        "colab": {
          "base_uri": "https://localhost:8080/"
        },
        "id": "NMLynrEdGvL8",
        "outputId": "76479d4a-bf5d-4aa5-da8f-fbfc58d90906"
      },
      "execution_count": 7,
      "outputs": [
        {
          "output_type": "stream",
          "name": "stdout",
          "text": [
            "nidigintitrivikramprasad\n"
          ]
        }
      ]
    },
    {
      "cell_type": "code",
      "source": [
        "print('nidiginti ' + 'trivikram '+ 'prasad')#for space  "
      ],
      "metadata": {
        "colab": {
          "base_uri": "https://localhost:8080/"
        },
        "id": "yb8_jtKpHW6t",
        "outputId": "db60d3b6-0d29-4274-9d32-b72866d33064"
      },
      "execution_count": 8,
      "outputs": [
        {
          "output_type": "stream",
          "name": "stdout",
          "text": [
            "nidiginti trivikram prasad\n"
          ]
        }
      ]
    },
    {
      "cell_type": "markdown",
      "source": [
        "#**Basic data types**\n",
        "\n",
        "\n",
        "1.   Int \n",
        "2.   Float\n",
        "\n",
        "1.   String(str)\n",
        "\n",
        "\n",
        "\n",
        "\n",
        "\n",
        "\n",
        "\n",
        "\n"
      ],
      "metadata": {
        "id": "VsD8o1kQH3am"
      }
    },
    {
      "cell_type": "code",
      "source": [
        "print('nidiginti ' + 'trivikram '+ 'prasad')\n",
        "type('nidiginti ' + 'trivikram '+ 'prasad')"
      ],
      "metadata": {
        "colab": {
          "base_uri": "https://localhost:8080/"
        },
        "id": "lj68ur4xHxZw",
        "outputId": "964088c6-fc31-4699-8dc4-9c11b8ddaf8f"
      },
      "execution_count": 9,
      "outputs": [
        {
          "output_type": "stream",
          "name": "stdout",
          "text": [
            "nidiginti trivikram prasad\n"
          ]
        },
        {
          "output_type": "execute_result",
          "data": {
            "text/plain": [
              "str"
            ]
          },
          "metadata": {},
          "execution_count": 9
        }
      ]
    },
    {
      "cell_type": "code",
      "source": [],
      "metadata": {
        "id": "9DYKf-KoJLld"
      },
      "execution_count": null,
      "outputs": []
    },
    {
      "cell_type": "markdown",
      "metadata": {
        "id": "Osmh3yTEEv9q"
      },
      "source": [
        "Programming Languages used for Machine Learning:\n",
        "\n",
        "\n",
        "1.   Python\n",
        "2.   R\n",
        "\n"
      ]
    },
    {
      "cell_type": "markdown",
      "metadata": {
        "id": "TF5JGYWwOCZ9"
      },
      "source": [
        "#Constants & Variables"
      ]
    },
    {
      "cell_type": "code",
      "metadata": {
        "colab": {
          "base_uri": "https://localhost:8080/"
        },
        "id": "ln8ikHIZN8mZ",
        "outputId": "5fcf2dad-5be5-4d19-ac15-3000c0d4dd25"
      },
      "source": [
        "x = \"nidiginti trivikram prasad\"\n",
        "print(x)"
      ],
      "execution_count": 15,
      "outputs": [
        {
          "output_type": "stream",
          "name": "stdout",
          "text": [
            "nidiginti trivikram prasad\n"
          ]
        }
      ]
    },
    {
      "cell_type": "code",
      "metadata": {
        "colab": {
          "base_uri": "https://localhost:8080/"
        },
        "id": "26ZG7J36O1Gm",
        "outputId": "5d7c7da9-6cb0-4bec-a61f-ce26c584e4de"
      },
      "source": [
        "a , b, c = \"nidiginti\" , \"trivikram\" , \"prasad\"\n",
        "print(a)\n",
        "print(b)\n",
        "print(c)"
      ],
      "execution_count": 16,
      "outputs": [
        {
          "output_type": "stream",
          "name": "stdout",
          "text": [
            "nidiginti\n",
            "trivikram\n",
            "prasad\n"
          ]
        }
      ]
    },
    {
      "cell_type": "code",
      "metadata": {
        "colab": {
          "base_uri": "https://localhost:8080/"
        },
        "id": "Y9nqEMNPPM26",
        "outputId": "232e190b-bda0-4b04-93b7-3d1010db30c0"
      },
      "source": [
        "x = y = z = 45\n",
        "print(x)\n",
        "print(y)\n",
        "print(z)"
      ],
      "execution_count": 17,
      "outputs": [
        {
          "output_type": "stream",
          "name": "stdout",
          "text": [
            "45\n",
            "45\n",
            "45\n"
          ]
        }
      ]
    },
    {
      "cell_type": "markdown",
      "metadata": {
        "id": "0Z9JChvaPpsm"
      },
      "source": [
        "# input Function"
      ]
    },
    {
      "cell_type": "code",
      "metadata": {
        "colab": {
          "base_uri": "https://localhost:8080/"
        },
        "id": "roZJU-IXPrvk",
        "outputId": "51bd4ffc-0e75-4724-b41f-92ee0d928cb6"
      },
      "source": [
        "n1 = int(input(\"Enter the first number : \"))\n",
        "n2 = int(input(\"Enter the second number : \"))\n",
        "\n",
        "sum = n1 + n2\n",
        "print(sum)"
      ],
      "execution_count": 18,
      "outputs": [
        {
          "output_type": "stream",
          "name": "stdout",
          "text": [
            "Enter the first number : 15\n",
            "Enter the second number : 45\n",
            "60\n"
          ]
        }
      ]
    },
    {
      "cell_type": "code",
      "metadata": {
        "colab": {
          "base_uri": "https://localhost:8080/"
        },
        "id": "HKcz9StaP-PF",
        "outputId": "19dc0077-d885-48cf-a78f-2f05b4b93bd6"
      },
      "source": [
        "# changing the data type in python:\n",
        "num = 5\n",
        "type(num)\n",
        "n=float(num)\n",
        "type(n)"
      ],
      "execution_count": 21,
      "outputs": [
        {
          "output_type": "execute_result",
          "data": {
            "text/plain": [
              "float"
            ]
          },
          "metadata": {},
          "execution_count": 21
        }
      ]
    },
    {
      "cell_type": "markdown",
      "metadata": {
        "id": "apWclQaRyr9i"
      },
      "source": [
        "#Basic Data Types in Python:\n",
        "1. Integer\n",
        "2. Floating Point\n",
        "3. Complex\n",
        "4. Boolean\n",
        "5. String"
      ]
    },
    {
      "cell_type": "code",
      "metadata": {
        "colab": {
          "base_uri": "https://localhost:8080/"
        },
        "id": "uQkDMpadyPlK",
        "outputId": "7d4ec282-9736-46b9-b389-ffb66c7089f5"
      },
      "source": [
        "# integers\n",
        "a = 85\n",
        "print(a)"
      ],
      "execution_count": 142,
      "outputs": [
        {
          "output_type": "stream",
          "name": "stdout",
          "text": [
            "85\n"
          ]
        }
      ]
    },
    {
      "cell_type": "code",
      "metadata": {
        "colab": {
          "base_uri": "https://localhost:8080/"
        },
        "id": "ckHsQXyk0eel",
        "outputId": "4eb3eee1-62af-4cc4-fafe-722d25232b1a"
      },
      "source": [
        "type(a)"
      ],
      "execution_count": 143,
      "outputs": [
        {
          "output_type": "execute_result",
          "data": {
            "text/plain": [
              "int"
            ]
          },
          "metadata": {},
          "execution_count": 143
        }
      ]
    },
    {
      "cell_type": "code",
      "metadata": {
        "colab": {
          "base_uri": "https://localhost:8080/"
        },
        "id": "xVOI4yFx0mhC",
        "outputId": "36939d31-673d-4019-eb72-2a5e473167df"
      },
      "source": [
        "# floating point\n",
        "b = 2.3\n",
        "print(b)\n",
        "type(b)"
      ],
      "execution_count": 144,
      "outputs": [
        {
          "output_type": "stream",
          "name": "stdout",
          "text": [
            "2.3\n"
          ]
        },
        {
          "output_type": "execute_result",
          "data": {
            "text/plain": [
              "float"
            ]
          },
          "metadata": {},
          "execution_count": 144
        }
      ]
    },
    {
      "cell_type": "code",
      "metadata": {
        "colab": {
          "base_uri": "https://localhost:8080/"
        },
        "id": "WzWhjFIE0vkS",
        "outputId": "483be57d-ad6f-4f1d-ebec-1f9ddcdd0811"
      },
      "source": [
        "# complex numbers\n",
        "c = 1 + 3j\n",
        "print(c)\n",
        "type(c)"
      ],
      "execution_count": 145,
      "outputs": [
        {
          "output_type": "stream",
          "name": "stdout",
          "text": [
            "(1+3j)\n"
          ]
        },
        {
          "output_type": "execute_result",
          "data": {
            "text/plain": [
              "complex"
            ]
          },
          "metadata": {},
          "execution_count": 145
        }
      ]
    },
    {
      "cell_type": "markdown",
      "metadata": {
        "id": "71h0zZTz1Cl7"
      },
      "source": [
        "Conversion of one data type to another"
      ]
    },
    {
      "cell_type": "code",
      "metadata": {
        "colab": {
          "base_uri": "https://localhost:8080/"
        },
        "id": "gx311AYb09AG",
        "outputId": "031cb292-9ffc-4a5d-c6cb-2689c32d77b7"
      },
      "source": [
        "# int to float\n",
        "x = 10\n",
        "print(x)\n",
        "type(x)"
      ],
      "execution_count": 146,
      "outputs": [
        {
          "output_type": "stream",
          "name": "stdout",
          "text": [
            "10\n"
          ]
        },
        {
          "output_type": "execute_result",
          "data": {
            "text/plain": [
              "int"
            ]
          },
          "metadata": {},
          "execution_count": 146
        }
      ]
    },
    {
      "cell_type": "code",
      "metadata": {
        "colab": {
          "base_uri": "https://localhost:8080/"
        },
        "id": "w_XTYMqg1MWk",
        "outputId": "e0231f55-e063-4a88-ae7e-8cb97fa31bb1"
      },
      "source": [
        "y = float(x)\n",
        "print(y)\n",
        "type(y)"
      ],
      "execution_count": 147,
      "outputs": [
        {
          "output_type": "stream",
          "name": "stdout",
          "text": [
            "10.0\n"
          ]
        },
        {
          "output_type": "execute_result",
          "data": {
            "text/plain": [
              "float"
            ]
          },
          "metadata": {},
          "execution_count": 147
        }
      ]
    },
    {
      "cell_type": "code",
      "metadata": {
        "colab": {
          "base_uri": "https://localhost:8080/"
        },
        "id": "hE3F0HUx1XnD",
        "outputId": "ed6029c2-401b-4eab-e1d6-6110e1d72fcd"
      },
      "source": [
        "# float to int\n",
        "x = 5.88\n",
        "print(x)\n",
        "type(x)"
      ],
      "execution_count": 148,
      "outputs": [
        {
          "output_type": "stream",
          "name": "stdout",
          "text": [
            "5.88\n"
          ]
        },
        {
          "output_type": "execute_result",
          "data": {
            "text/plain": [
              "float"
            ]
          },
          "metadata": {},
          "execution_count": 148
        }
      ]
    },
    {
      "cell_type": "code",
      "metadata": {
        "colab": {
          "base_uri": "https://localhost:8080/"
        },
        "id": "7DQnV6kO1jG1",
        "outputId": "2b1eaf5d-cb9a-4c17-9193-029e73588b03"
      },
      "source": [
        "y = int(x)\n",
        "print(y)\n",
        "type(y)"
      ],
      "execution_count": 149,
      "outputs": [
        {
          "output_type": "stream",
          "name": "stdout",
          "text": [
            "5\n"
          ]
        },
        {
          "output_type": "execute_result",
          "data": {
            "text/plain": [
              "int"
            ]
          },
          "metadata": {},
          "execution_count": 149
        }
      ]
    },
    {
      "cell_type": "markdown",
      "metadata": {
        "id": "XkbofyMg103l"
      },
      "source": [
        "Boolean"
      ]
    },
    {
      "cell_type": "markdown",
      "metadata": {
        "id": "-ZIfAmQ9121L"
      },
      "source": [
        "1. True\n",
        "2. False"
      ]
    },
    {
      "cell_type": "code",
      "metadata": {
        "colab": {
          "base_uri": "https://localhost:8080/"
        },
        "id": "t_qqKUR91qEX",
        "outputId": "9a240162-05bf-4d95-e785-13dceeee0393"
      },
      "source": [
        "a = True\n",
        "print(a)\n",
        "type(a)"
      ],
      "execution_count": 150,
      "outputs": [
        {
          "output_type": "stream",
          "name": "stdout",
          "text": [
            "True\n"
          ]
        },
        {
          "output_type": "execute_result",
          "data": {
            "text/plain": [
              "bool"
            ]
          },
          "metadata": {},
          "execution_count": 150
        }
      ]
    },
    {
      "cell_type": "code",
      "metadata": {
        "colab": {
          "base_uri": "https://localhost:8080/"
        },
        "id": "43oxnDeO2BLR",
        "outputId": "fb685d13-ebe3-47f4-d40b-733c4c0f2dd3"
      },
      "source": [
        "b = False\n",
        "print(b)\n",
        "type(b)"
      ],
      "execution_count": 151,
      "outputs": [
        {
          "output_type": "stream",
          "name": "stdout",
          "text": [
            "False\n"
          ]
        },
        {
          "output_type": "execute_result",
          "data": {
            "text/plain": [
              "bool"
            ]
          },
          "metadata": {},
          "execution_count": 151
        }
      ]
    },
    {
      "cell_type": "code",
      "metadata": {
        "colab": {
          "base_uri": "https://localhost:8080/"
        },
        "id": "Sgjm0EoQ2GzH",
        "outputId": "a1c43cfe-97ec-4f8f-dc57-ead6eaa6e634"
      },
      "source": [
        "a = 70 < 30\n",
        "print(a)\n",
        "type(a)"
      ],
      "execution_count": 152,
      "outputs": [
        {
          "output_type": "stream",
          "name": "stdout",
          "text": [
            "False\n"
          ]
        },
        {
          "output_type": "execute_result",
          "data": {
            "text/plain": [
              "bool"
            ]
          },
          "metadata": {},
          "execution_count": 152
        }
      ]
    },
    {
      "cell_type": "code",
      "metadata": {
        "colab": {
          "base_uri": "https://localhost:8080/"
        },
        "id": "dUfCMr5h2Vly",
        "outputId": "b9f0e637-71fc-4914-9399-2fd112b97645"
      },
      "source": [
        "a = 70> 30\n",
        "print(a)\n",
        "type(a)"
      ],
      "execution_count": 153,
      "outputs": [
        {
          "output_type": "stream",
          "name": "stdout",
          "text": [
            "True\n"
          ]
        },
        {
          "output_type": "execute_result",
          "data": {
            "text/plain": [
              "bool"
            ]
          },
          "metadata": {},
          "execution_count": 153
        }
      ]
    },
    {
      "cell_type": "markdown",
      "metadata": {
        "id": "duVUENIZ2jwq"
      },
      "source": [
        "String"
      ]
    },
    {
      "cell_type": "code",
      "source": [
        "my_string = \"trivikram\"\n",
        "print(my_string)\n",
        "type(my_string)"
      ],
      "metadata": {
        "colab": {
          "base_uri": "https://localhost:8080/"
        },
        "id": "zehgMCWMRB3S",
        "outputId": "7939e5a3-74ca-4724-c5f8-5bfb8b9fa72f"
      },
      "execution_count": 154,
      "outputs": [
        {
          "output_type": "stream",
          "name": "stdout",
          "text": [
            "trivikram\n"
          ]
        },
        {
          "output_type": "execute_result",
          "data": {
            "text/plain": [
              "str"
            ]
          },
          "metadata": {},
          "execution_count": 154
        }
      ]
    },
    {
      "cell_type": "code",
      "metadata": {
        "colab": {
          "base_uri": "https://localhost:8080/"
        },
        "id": "mZ9rRFBv29c6",
        "outputId": "40263a45-8cec-4069-e1d4-9a0aba14770b"
      },
      "source": [
        "print(\"Hello\"*5)"
      ],
      "execution_count": 155,
      "outputs": [
        {
          "output_type": "stream",
          "name": "stdout",
          "text": [
            "HelloHelloHelloHelloHello\n"
          ]
        }
      ]
    },
    {
      "cell_type": "code",
      "source": [
        "print(\"Hello \"*50)"
      ],
      "metadata": {
        "colab": {
          "base_uri": "https://localhost:8080/"
        },
        "id": "M8CScpwPRPwo",
        "outputId": "5eee9fcb-0ab6-4e8f-e314-fea5d19c3862"
      },
      "execution_count": 156,
      "outputs": [
        {
          "output_type": "stream",
          "name": "stdout",
          "text": [
            "Hello Hello Hello Hello Hello Hello Hello Hello Hello Hello Hello Hello Hello Hello Hello Hello Hello Hello Hello Hello Hello Hello Hello Hello Hello Hello Hello Hello Hello Hello Hello Hello Hello Hello Hello Hello Hello Hello Hello Hello Hello Hello Hello Hello Hello Hello Hello Hello Hello Hello \n"
          ]
        }
      ]
    },
    {
      "cell_type": "markdown",
      "metadata": {
        "id": "8uj-eOPM3LEX"
      },
      "source": [
        "Slicing and indexing operations on a string, Remember index always start from zero, and also space is also considered as a character only"
      ]
    },
    {
      "cell_type": "code",
      "metadata": {
        "id": "mKF6ngiV3FiZ"
      },
      "source": [
        "my_string = \"TRIVIKRAM\""
      ],
      "execution_count": 157,
      "outputs": []
    },
    {
      "cell_type": "code",
      "source": [
        "print(my_string) "
      ],
      "metadata": {
        "colab": {
          "base_uri": "https://localhost:8080/"
        },
        "id": "9en6Zdi7RzjY",
        "outputId": "6668a8a0-75df-497f-ba73-7858cf3643bb"
      },
      "execution_count": 158,
      "outputs": [
        {
          "output_type": "stream",
          "name": "stdout",
          "text": [
            "TRIVIKRAM\n"
          ]
        }
      ]
    },
    {
      "cell_type": "code",
      "source": [
        "print(my_string[7]) "
      ],
      "metadata": {
        "colab": {
          "base_uri": "https://localhost:8080/"
        },
        "id": "KH-c22FiTBLG",
        "outputId": "53ec8228-b61c-481a-fdae-87886f218c61"
      },
      "execution_count": 159,
      "outputs": [
        {
          "output_type": "stream",
          "name": "stdout",
          "text": [
            "A\n"
          ]
        }
      ]
    },
    {
      "cell_type": "code",
      "metadata": {
        "colab": {
          "base_uri": "https://localhost:8080/"
        },
        "id": "Rj636qLe3QUi",
        "outputId": "a8646ccd-0cd4-4275-8ff9-ab108eb382a0"
      },
      "source": [
        "print(my_string[1:5])    # values from index 1 to 5-1 will be sliced, STARTS FROM 0 ....."
      ],
      "execution_count": 160,
      "outputs": [
        {
          "output_type": "stream",
          "name": "stdout",
          "text": [
            "RIVI\n"
          ]
        }
      ]
    },
    {
      "cell_type": "code",
      "metadata": {
        "colab": {
          "base_uri": "https://localhost:8080/"
        },
        "id": "SeLPwiOx3kri",
        "outputId": "51a6f227-c801-4d52-ec9b-3e2a49b912da"
      },
      "source": [
        "# step\n",
        "print(my_string[0:8:1])\n",
        "print(my_string[0:8:2])\n",
        "print(my_string[0:8:3])\n"
      ],
      "execution_count": 161,
      "outputs": [
        {
          "output_type": "stream",
          "name": "stdout",
          "text": [
            "TRIVIKRA\n",
            "TIIR\n",
            "TVR\n"
          ]
        }
      ]
    },
    {
      "cell_type": "code",
      "source": [
        "d=\"TRIVIKRAM\""
      ],
      "metadata": {
        "id": "w0rH-fx3VOkA"
      },
      "execution_count": 162,
      "outputs": []
    },
    {
      "cell_type": "code",
      "source": [
        "d[0:3:1]   #1 is optional (because by default step size (is 1 and sclicing order is also forward\n",
        "d[0:5:2]    #here jump size is 2\n",
        "d[0:100:-1]    #Actually here we are sclicing in te forward direction but given the jump size in the negative direction dur ==e to which a concflict occurs, so we ca't get the value \n",
        "d[-1:-4]  #again here we are sclicing in the backward direction but the jump is default in the positive directiion (i.e 1)\n",
        "d[:9]   #by default start index is zero\n",
        "d[:-2]    #here start is zero but the end is -2 that means it should exclude -2 (upper bound exclude) by considering upto -3\n",
        "d[-2:]\n",
        "d[::-1]    #complete reverse of  a string\n",
        "d[-5:5]  #here we started with -5 but end with postive which makes a conflict because we have our jump direction as a positive\n",
        "d[-5:5:-1]"
      ],
      "metadata": {
        "colab": {
          "base_uri": "https://localhost:8080/",
          "height": 0
        },
        "id": "jvDxDefqVMY6",
        "outputId": "7c9dff39-2c5a-4868-ce55-555fa7eb2597"
      },
      "execution_count": 163,
      "outputs": [
        {
          "output_type": "execute_result",
          "data": {
            "text/plain": [
              "''"
            ],
            "application/vnd.google.colaboratory.intrinsic+json": {
              "type": "string"
            }
          },
          "metadata": {},
          "execution_count": 163
        }
      ]
    },
    {
      "cell_type": "code",
      "source": [
        "print(d[-1:-4] )\n",
        "print(d[:-2])\n",
        "print(d[-2:])\n",
        "print(d[::-1]) #complete reverse of  a string\n",
        "print(d[-5:5])\n",
        "print(d[-5:5:-1])\n",
        "print(d[5])"
      ],
      "metadata": {
        "colab": {
          "base_uri": "https://localhost:8080/"
        },
        "id": "5HbMMWVdWVLN",
        "outputId": "0d374d5f-ca00-4282-b04f-6fe82e3bac60"
      },
      "execution_count": 164,
      "outputs": [
        {
          "output_type": "stream",
          "name": "stdout",
          "text": [
            "\n",
            "TRIVIKR\n",
            "AM\n",
            "MARKIVIRT\n",
            "I\n",
            "\n",
            "K\n"
          ]
        }
      ]
    },
    {
      "cell_type": "code",
      "source": [
        "d= \"trivikram\"\n",
        "d.upper() #convert to upper case\n",
        "d=d.upper()\n",
        "print(d)"
      ],
      "metadata": {
        "colab": {
          "base_uri": "https://localhost:8080/"
        },
        "id": "QbhACXxRZETl",
        "outputId": "405d88c5-ec77-4f09-ec91-a796a37c79e3"
      },
      "execution_count": 165,
      "outputs": [
        {
          "output_type": "stream",
          "name": "stdout",
          "text": [
            "TRIVIKRAM\n"
          ]
        }
      ]
    },
    {
      "cell_type": "code",
      "source": [
        "d.lower()   #lower case"
      ],
      "metadata": {
        "colab": {
          "base_uri": "https://localhost:8080/",
          "height": 0
        },
        "id": "-I5YBOJ7ZqVe",
        "outputId": "e105ce52-0260-477b-d3dc-7765e9801e15"
      },
      "execution_count": 166,
      "outputs": [
        {
          "output_type": "execute_result",
          "data": {
            "text/plain": [
              "'trivikram'"
            ],
            "application/vnd.google.colaboratory.intrinsic+json": {
              "type": "string"
            }
          },
          "metadata": {},
          "execution_count": 166
        }
      ]
    },
    {
      "cell_type": "code",
      "source": [
        "d.swapcase()    #convert lower to upper and upper to lower"
      ],
      "metadata": {
        "colab": {
          "base_uri": "https://localhost:8080/",
          "height": 0
        },
        "id": "PV5BvgolZ6WF",
        "outputId": "4913852e-c1b0-489f-86ee-777d61dfb9d5"
      },
      "execution_count": 167,
      "outputs": [
        {
          "output_type": "execute_result",
          "data": {
            "text/plain": [
              "'trivikram'"
            ],
            "application/vnd.google.colaboratory.intrinsic+json": {
              "type": "string"
            }
          },
          "metadata": {},
          "execution_count": 167
        }
      ]
    },
    {
      "cell_type": "code",
      "source": [
        "e =\"my name is nidiginti trivikram prasad\"\n",
        "e.title()   #captialize the First letter in each word"
      ],
      "metadata": {
        "colab": {
          "base_uri": "https://localhost:8080/",
          "height": 0
        },
        "id": "Sbm__VA5aBl_",
        "outputId": "f042fb9d-41cf-4036-fb63-68c79e362a4f"
      },
      "execution_count": 168,
      "outputs": [
        {
          "output_type": "execute_result",
          "data": {
            "text/plain": [
              "'My Name Is Nidiginti Trivikram Prasad'"
            ],
            "application/vnd.google.colaboratory.intrinsic+json": {
              "type": "string"
            }
          },
          "metadata": {},
          "execution_count": 168
        }
      ]
    },
    {
      "cell_type": "code",
      "source": [
        "f= 'trivikram'\n",
        "g= 'prasad'\n",
        "f.join(g)     #after every character of the second string it will try to add the first string"
      ],
      "metadata": {
        "colab": {
          "base_uri": "https://localhost:8080/",
          "height": 0
        },
        "id": "bYPGBDALaO_e",
        "outputId": "3ecfc0fb-3296-4ee0-e517-4922387ae585"
      },
      "execution_count": 169,
      "outputs": [
        {
          "output_type": "execute_result",
          "data": {
            "text/plain": [
              "'ptrivikramrtrivikramatrivikramstrivikramatrivikramd'"
            ],
            "application/vnd.google.colaboratory.intrinsic+json": {
              "type": "string"
            }
          },
          "metadata": {},
          "execution_count": 169
        }
      ]
    },
    {
      "cell_type": "code",
      "source": [
        "\" \". join(g)   # space is add to every letter "
      ],
      "metadata": {
        "colab": {
          "base_uri": "https://localhost:8080/",
          "height": 0
        },
        "id": "jWTRTq8RazJS",
        "outputId": "221cc98a-597d-4c7b-82dc-e0dbf982a120"
      },
      "execution_count": 170,
      "outputs": [
        {
          "output_type": "execute_result",
          "data": {
            "text/plain": [
              "'p r a s a d'"
            ],
            "application/vnd.google.colaboratory.intrinsic+json": {
              "type": "string"
            }
          },
          "metadata": {},
          "execution_count": 170
        }
      ]
    },
    {
      "cell_type": "code",
      "source": [
        "\n",
        "d.find(\"r\")  #find function only gives the index of first occureance in the string"
      ],
      "metadata": {
        "colab": {
          "base_uri": "https://localhost:8080/"
        },
        "id": "BwQDG6klYbji",
        "outputId": "3efdc758-5c57-42ce-965f-714101d5659e"
      },
      "execution_count": 171,
      "outputs": [
        {
          "output_type": "execute_result",
          "data": {
            "text/plain": [
              "-1"
            ]
          },
          "metadata": {},
          "execution_count": 171
        }
      ]
    },
    {
      "cell_type": "code",
      "source": [
        "x= \"     trivikram     \"\n",
        "x.strip()    #reomoves the white space before and after also"
      ],
      "metadata": {
        "colab": {
          "base_uri": "https://localhost:8080/",
          "height": 0
        },
        "id": "0J5pdGThbHwo",
        "outputId": "10e9550e-bc33-4d8c-e56a-97ce87568e0f"
      },
      "execution_count": 172,
      "outputs": [
        {
          "output_type": "execute_result",
          "data": {
            "text/plain": [
              "'trivikram'"
            ],
            "application/vnd.google.colaboratory.intrinsic+json": {
              "type": "string"
            }
          },
          "metadata": {},
          "execution_count": 172
        }
      ]
    },
    {
      "cell_type": "code",
      "source": [
        "y= \"prasad     \"\n",
        "y.rstrip()    #rstrip is used to remove the trailing unnesecarry space \n"
      ],
      "metadata": {
        "colab": {
          "base_uri": "https://localhost:8080/",
          "height": 0
        },
        "id": "TsbXDRvebUlD",
        "outputId": "64fbdee8-6363-487a-d8a7-6c8400b23718"
      },
      "execution_count": 173,
      "outputs": [
        {
          "output_type": "execute_result",
          "data": {
            "text/plain": [
              "'prasad'"
            ],
            "application/vnd.google.colaboratory.intrinsic+json": {
              "type": "string"
            }
          },
          "metadata": {},
          "execution_count": 173
        }
      ]
    },
    {
      "cell_type": "code",
      "source": [
        "z= \"    prasad\"\n",
        "z.lstrip()     #lstrip is used to remove the leading unnesecarry space "
      ],
      "metadata": {
        "colab": {
          "base_uri": "https://localhost:8080/",
          "height": 0
        },
        "id": "5JErtR3dbTvk",
        "outputId": "d6701391-8699-4349-e8eb-25d3c27af17e"
      },
      "execution_count": 174,
      "outputs": [
        {
          "output_type": "execute_result",
          "data": {
            "text/plain": [
              "'prasad'"
            ],
            "application/vnd.google.colaboratory.intrinsic+json": {
              "type": "string"
            }
          },
          "metadata": {},
          "execution_count": 174
        }
      ]
    },
    {
      "cell_type": "code",
      "source": [
        "f.replace(\"i\", \"g\")    #replace is used to replace a character with another character "
      ],
      "metadata": {
        "colab": {
          "base_uri": "https://localhost:8080/",
          "height": 0
        },
        "id": "FVLN62gabr24",
        "outputId": "126efa6d-cd23-4620-db87-65ec7904b778"
      },
      "execution_count": 175,
      "outputs": [
        {
          "output_type": "execute_result",
          "data": {
            "text/plain": [
              "'trgvgkram'"
            ],
            "application/vnd.google.colaboratory.intrinsic+json": {
              "type": "string"
            }
          },
          "metadata": {},
          "execution_count": 175
        }
      ]
    },
    {
      "cell_type": "code",
      "source": [
        "f.replace(\"z\", \"g\")   #since t is not available in the string, nothing can be done "
      ],
      "metadata": {
        "colab": {
          "base_uri": "https://localhost:8080/",
          "height": 0
        },
        "id": "8z8R6Q9Yblty",
        "outputId": "00641028-c57e-46ea-fa21-6b4fc8b6221a"
      },
      "execution_count": 176,
      "outputs": [
        {
          "output_type": "execute_result",
          "data": {
            "text/plain": [
              "'trivikram'"
            ],
            "application/vnd.google.colaboratory.intrinsic+json": {
              "type": "string"
            }
          },
          "metadata": {},
          "execution_count": 176
        }
      ]
    },
    {
      "cell_type": "code",
      "source": [
        "\"trivikram\\tprasad\".expandtabs()    #expands the strig by giving the tab space where \\t will be present"
      ],
      "metadata": {
        "colab": {
          "base_uri": "https://localhost:8080/",
          "height": 0
        },
        "id": "kM52LDnZb45a",
        "outputId": "c1dde9b6-633e-480b-a70e-8545f4a3c202"
      },
      "execution_count": 177,
      "outputs": [
        {
          "output_type": "execute_result",
          "data": {
            "text/plain": [
              "'trivikram       prasad'"
            ],
            "application/vnd.google.colaboratory.intrinsic+json": {
              "type": "string"
            }
          },
          "metadata": {},
          "execution_count": 177
        }
      ]
    },
    {
      "cell_type": "code",
      "source": [
        "s= \"trivikram\"\n",
        "s.center(40, 'k')    #centers the string with equal space before and after where the given character is placed "
      ],
      "metadata": {
        "colab": {
          "base_uri": "https://localhost:8080/",
          "height": 0
        },
        "id": "amwaCHn7cOfS",
        "outputId": "25d5429b-853d-4597-d4d1-2f474b89f951"
      },
      "execution_count": 178,
      "outputs": [
        {
          "output_type": "execute_result",
          "data": {
            "text/plain": [
              "'kkkkkkkkkkkkkkktrivikramkkkkkkkkkkkkkkkk'"
            ],
            "application/vnd.google.colaboratory.intrinsic+json": {
              "type": "string"
            }
          },
          "metadata": {},
          "execution_count": 178
        }
      ]
    },
    {
      "cell_type": "code",
      "source": [
        "s.isalpha()    #press tab after typing is for more no of functions    \n",
        "\n",
        "\n",
        "\n",
        "\n"
      ],
      "metadata": {
        "colab": {
          "base_uri": "https://localhost:8080/"
        },
        "id": "jB6Zx454cjQ4",
        "outputId": "f6d789c8-654e-4485-8bc2-70e08a8b346f"
      },
      "execution_count": 179,
      "outputs": [
        {
          "output_type": "execute_result",
          "data": {
            "text/plain": [
              "True"
            ]
          },
          "metadata": {},
          "execution_count": 179
        }
      ]
    },
    {
      "cell_type": "code",
      "source": [
        "k='     '\n",
        "k.isspace()   #Only return True if entire string is a space "
      ],
      "metadata": {
        "colab": {
          "base_uri": "https://localhost:8080/"
        },
        "id": "9bdO9MVldo4J",
        "outputId": "4fbedf10-7ffe-4f85-a2ce-bf6a35f9993d"
      },
      "execution_count": 180,
      "outputs": [
        {
          "output_type": "execute_result",
          "data": {
            "text/plain": [
              "True"
            ]
          },
          "metadata": {},
          "execution_count": 180
        }
      ]
    },
    {
      "cell_type": "code",
      "source": [
        "p=\"5555555\"\n",
        "p.isdigit() #Only return True if entire string is a numbers "
      ],
      "metadata": {
        "colab": {
          "base_uri": "https://localhost:8080/"
        },
        "id": "mgIux2bKdBcc",
        "outputId": "e08bb2cf-6858-42be-e4d3-14a139c54589"
      },
      "execution_count": 181,
      "outputs": [
        {
          "output_type": "execute_result",
          "data": {
            "text/plain": [
              "True"
            ]
          },
          "metadata": {},
          "execution_count": 181
        }
      ]
    },
    {
      "cell_type": "code",
      "source": [
        "s.startswith(\"x\")"
      ],
      "metadata": {
        "colab": {
          "base_uri": "https://localhost:8080/"
        },
        "id": "rILa1WISc_bG",
        "outputId": "8a923d30-d45f-4fd5-bcaa-1bb99a282b9d"
      },
      "execution_count": 182,
      "outputs": [
        {
          "output_type": "execute_result",
          "data": {
            "text/plain": [
              "False"
            ]
          },
          "metadata": {},
          "execution_count": 182
        }
      ]
    },
    {
      "cell_type": "code",
      "source": [
        "s.istitle()"
      ],
      "metadata": {
        "colab": {
          "base_uri": "https://localhost:8080/"
        },
        "id": "GMNLMIk9c9fe",
        "outputId": "f3b35f09-4313-447f-ae12-49ab7ed425bb"
      },
      "execution_count": 183,
      "outputs": [
        {
          "output_type": "execute_result",
          "data": {
            "text/plain": [
              "False"
            ]
          },
          "metadata": {},
          "execution_count": 183
        }
      ]
    },
    {
      "cell_type": "code",
      "source": [
        "s.encode()  "
      ],
      "metadata": {
        "colab": {
          "base_uri": "https://localhost:8080/"
        },
        "id": "zpFr9pAic7Bs",
        "outputId": "9f4259e5-704b-481a-88d9-057960834404"
      },
      "execution_count": 184,
      "outputs": [
        {
          "output_type": "execute_result",
          "data": {
            "text/plain": [
              "b'trivikram'"
            ]
          },
          "metadata": {},
          "execution_count": 184
        }
      ]
    },
    {
      "cell_type": "code",
      "source": [
        "d.swapcase() "
      ],
      "metadata": {
        "colab": {
          "base_uri": "https://localhost:8080/",
          "height": 0
        },
        "id": "b-lohP-CY23a",
        "outputId": "383be3b7-d889-4184-ab97-ebe8931135a7"
      },
      "execution_count": 185,
      "outputs": [
        {
          "output_type": "execute_result",
          "data": {
            "text/plain": [
              "'trivikram'"
            ],
            "application/vnd.google.colaboratory.intrinsic+json": {
              "type": "string"
            }
          },
          "metadata": {},
          "execution_count": 185
        }
      ]
    },
    {
      "cell_type": "code",
      "source": [],
      "metadata": {
        "id": "Mhki5S3lYOrh"
      },
      "execution_count": 185,
      "outputs": []
    },
    {
      "cell_type": "markdown",
      "metadata": {
        "id": "NxwxzlVV4HgP"
      },
      "source": [
        "String Concatenation"
      ]
    },
    {
      "cell_type": "code",
      "metadata": {
        "colab": {
          "base_uri": "https://localhost:8080/"
        },
        "id": "TYqgwM5U390H",
        "outputId": "f38fb6d0-190d-4c30-e324-7aefbf7998dd"
      },
      "source": [
        "word_1 = 'Machine '\n",
        "word_2 = 'Learning'\n",
        "\n",
        "print(word_1+word_2)"
      ],
      "execution_count": 186,
      "outputs": [
        {
          "output_type": "stream",
          "name": "stdout",
          "text": [
            "Machine Learning\n"
          ]
        }
      ]
    },
    {
      "cell_type": "markdown",
      "metadata": {
        "id": "M6FYZhxWa-2t"
      },
      "source": [
        "#Types of Objects in Python:\n",
        "1. Immutable Objects\n",
        "2. Mutable Objects"
      ]
    },
    {
      "cell_type": "markdown",
      "metadata": {
        "id": "jtGu0nbsbDOW"
      },
      "source": [
        "Immutable Objects:\n",
        "1. int\n",
        "2. float\n",
        "3. string\n",
        "4. bool\n",
        "5. tuple"
      ]
    },
    {
      "cell_type": "markdown",
      "metadata": {
        "id": "ekg3pl-kbFQR"
      },
      "source": [
        "Mutable Objects:\n",
        "1. List\n",
        "2. Set \n",
        "3. Dictionary"
      ]
    },
    {
      "cell_type": "markdown",
      "metadata": {
        "id": "yLbT5WmhfD1C"
      },
      "source": [
        "**List**"
      ]
    },
    {
      "cell_type": "code",
      "metadata": {
        "colab": {
          "base_uri": "https://localhost:8080/"
        },
        "id": "UMGYv02qa8yY",
        "outputId": "a38340b2-6331-4ace-97b8-7643f46c73aa"
      },
      "source": [
        "# list should be included in the square brackets\n",
        "m = [1,2,3,4,5]\n",
        "print(m)\n",
        "type(m)"
      ],
      "execution_count": 203,
      "outputs": [
        {
          "output_type": "stream",
          "name": "stdout",
          "text": [
            "[1, 2, 3, 4, 5]\n"
          ]
        },
        {
          "output_type": "execute_result",
          "data": {
            "text/plain": [
              "list"
            ]
          },
          "metadata": {},
          "execution_count": 203
        }
      ]
    },
    {
      "cell_type": "code",
      "metadata": {
        "colab": {
          "base_uri": "https://localhost:8080/"
        },
        "id": "vNOsdYcOfZrM",
        "outputId": "c803f405-15de-466f-a9f0-2f919046be4d"
      },
      "source": [
        "# lists can have multiple data types\n",
        "m = [2, 3, 1.8, 'trivikram', True]\n",
        "print(m)"
      ],
      "execution_count": 188,
      "outputs": [
        {
          "output_type": "stream",
          "name": "stdout",
          "text": [
            "[2, 3, 1.8, 'English', True]\n"
          ]
        }
      ]
    },
    {
      "cell_type": "markdown",
      "metadata": {
        "id": "kR0CJMjefx3n"
      },
      "source": [
        "Lists are Mutable --> Changeable"
      ]
    },
    {
      "cell_type": "code",
      "metadata": {
        "colab": {
          "base_uri": "https://localhost:8080/"
        },
        "id": "cDqAI-_tfvrD",
        "outputId": "0ff6cae8-a409-4da7-bd79-64c8a5fcd5a3"
      },
      "source": [
        "# add elements to a list\n",
        "m = [2, 3, 1.8, 'trivikram', True]\n",
        "m.append(6)\n",
        "print(m)"
      ],
      "execution_count": 202,
      "outputs": [
        {
          "output_type": "stream",
          "name": "stdout",
          "text": [
            "[2, 3, 1.8, 'trivikram', True, 6]\n"
          ]
        }
      ]
    },
    {
      "cell_type": "code",
      "metadata": {
        "colab": {
          "base_uri": "https://localhost:8080/"
        },
        "id": "HGY-f8TxgEuB",
        "outputId": "de67fe85-e36e-478b-b60b-7a00c0d20763"
      },
      "source": [
        "# print elements of a list using their index\n",
        "print(m[0])\n",
        "print(m[2])"
      ],
      "execution_count": 205,
      "outputs": [
        {
          "output_type": "stream",
          "name": "stdout",
          "text": [
            "1\n",
            "3\n"
          ]
        }
      ]
    },
    {
      "cell_type": "code",
      "metadata": {
        "colab": {
          "base_uri": "https://localhost:8080/"
        },
        "id": "SRJrejNegWyM",
        "outputId": "0e457fb5-7ae9-4821-d2cd-586acd7fc43f"
      },
      "source": [
        "# lists allow duplicate values\n",
        "l=[1,2,3,4,5,12,2,3]\n",
        "print(l)"
      ],
      "execution_count": 207,
      "outputs": [
        {
          "output_type": "stream",
          "name": "stdout",
          "text": [
            "[1, 2, 3, 4, 5, 12, 2, 3]\n"
          ]
        }
      ]
    },
    {
      "cell_type": "code",
      "metadata": {
        "colab": {
          "base_uri": "https://localhost:8080/"
        },
        "id": "OhSx_qZkgk3R",
        "outputId": "0e830a14-e146-4c79-f3a6-d32754cccf8f"
      },
      "source": [
        "print(len(l))"
      ],
      "execution_count": 208,
      "outputs": [
        {
          "output_type": "stream",
          "name": "stdout",
          "text": [
            "8\n"
          ]
        }
      ]
    },
    {
      "cell_type": "code",
      "metadata": {
        "colab": {
          "base_uri": "https://localhost:8080/"
        },
        "id": "KoBSERrlgvn4",
        "outputId": "3d839366-3b33-4dac-87a0-c3ef1ea0e8b8"
      },
      "source": [
        "# initiating an empty list\n",
        "list_2 = []\n",
        "print(list_2)"
      ],
      "execution_count": 193,
      "outputs": [
        {
          "output_type": "stream",
          "name": "stdout",
          "text": [
            "[]\n"
          ]
        }
      ]
    },
    {
      "cell_type": "code",
      "metadata": {
        "colab": {
          "base_uri": "https://localhost:8080/"
        },
        "id": "-PJaFQltg4YM",
        "outputId": "afe116ff-0c96-48b5-e4b3-d7446ba0e380"
      },
      "source": [
        "list_2.append(5)\n",
        "print(list_2)"
      ],
      "execution_count": 194,
      "outputs": [
        {
          "output_type": "stream",
          "name": "stdout",
          "text": [
            "[5]\n"
          ]
        }
      ]
    },
    {
      "cell_type": "code",
      "metadata": {
        "colab": {
          "base_uri": "https://localhost:8080/"
        },
        "id": "nU3FsBd6g-B2",
        "outputId": "a3b823fb-4741-4153-a3f3-3fe6b27d1ba5"
      },
      "source": [
        "# delete an item in a list\n",
        "list_2 = [2, 3, 1.8, 'trivikram', True, 6]\n",
        "print(list_2)\n",
        "\n",
        "del list_2[2]\n",
        "print(list_2)"
      ],
      "execution_count": 210,
      "outputs": [
        {
          "output_type": "stream",
          "name": "stdout",
          "text": [
            "[2, 3, 1.8, 'trivikram', True, 6]\n",
            "[2, 3, 'trivikram', True, 6]\n"
          ]
        }
      ]
    },
    {
      "cell_type": "code",
      "metadata": {
        "colab": {
          "base_uri": "https://localhost:8080/"
        },
        "id": "XbQAGCA0hX3Q",
        "outputId": "b5dc3faa-d33a-41c9-ff74-348634c632be"
      },
      "source": [
        "# join two lists\n",
        "l3 = [1,2,3,4,5]\n",
        "l4 = [6,7,8,9,10]\n",
        "\n",
        "list_5 = l3 + l4\n",
        "print(list_5)"
      ],
      "execution_count": 211,
      "outputs": [
        {
          "output_type": "stream",
          "name": "stdout",
          "text": [
            "[1, 2, 3, 4, 5, 6, 7, 8, 9, 10]\n"
          ]
        }
      ]
    },
    {
      "cell_type": "markdown",
      "metadata": {
        "id": "XoQULhPEhsSk"
      },
      "source": [
        "Tuple"
      ]
    },
    {
      "cell_type": "code",
      "metadata": {
        "colab": {
          "base_uri": "https://localhost:8080/"
        },
        "id": "VSTos6r1hoAo",
        "outputId": "59aebf3e-2bad-4bd5-f06d-4d163ecfe0ad"
      },
      "source": [
        "tuple_1 = (2,3,4,5)\n",
        "print(tuple_1)\n",
        "type(tuple_1)"
      ],
      "execution_count": 197,
      "outputs": [
        {
          "output_type": "stream",
          "name": "stdout",
          "text": [
            "(2, 3, 4, 5)\n"
          ]
        },
        {
          "output_type": "execute_result",
          "data": {
            "text/plain": [
              "tuple"
            ]
          },
          "metadata": {},
          "execution_count": 197
        }
      ]
    },
    {
      "cell_type": "code",
      "metadata": {
        "colab": {
          "base_uri": "https://localhost:8080/"
        },
        "id": "Tdrh8JsAh37C",
        "outputId": "e9a598f9-bdf9-4d52-f980-a6db81fe861d"
      },
      "source": [
        "# tuple allows multiple data types\n",
        "tuple_2 = (1,2,3.5, 'Machine Learning', False)\n",
        "print(tuple_2)"
      ],
      "execution_count": 198,
      "outputs": [
        {
          "output_type": "stream",
          "name": "stdout",
          "text": [
            "(1, 2, 3.5, 'Machine Learning', False)\n"
          ]
        }
      ]
    },
    {
      "cell_type": "code",
      "metadata": {
        "colab": {
          "base_uri": "https://localhost:8080/"
        },
        "id": "tHxHt22fiIAg",
        "outputId": "fb03e711-d86c-4976-f464-725ccffc8d42"
      },
      "source": [
        "# converting  a list to a tuple\n",
        "\n",
        "m = [3,4,5,6]\n",
        "print(m)\n",
        "\n",
        "my_tuple = tuple(m)\n",
        "print(my_tuple)"
      ],
      "execution_count": 212,
      "outputs": [
        {
          "output_type": "stream",
          "name": "stdout",
          "text": [
            "[3, 4, 5, 6]\n",
            "(3, 4, 5, 6)\n"
          ]
        }
      ]
    },
    {
      "cell_type": "code",
      "metadata": {
        "colab": {
          "base_uri": "https://localhost:8080/"
        },
        "id": "9QRTalV1iay1",
        "outputId": "72a1f7d3-1a23-4dcd-cc2a-9b4c9a6900aa"
      },
      "source": [
        "print(my_tuple[0])\n",
        "print(my_tuple[1])"
      ],
      "execution_count": 200,
      "outputs": [
        {
          "output_type": "stream",
          "name": "stdout",
          "text": [
            "3\n",
            "4\n"
          ]
        }
      ]
    },
    {
      "cell_type": "markdown",
      "metadata": {
        "id": "nzLtSOHCirRc"
      },
      "source": [
        "Tuples are immutable --> Unchangeable"
      ]
    },
    {
      "cell_type": "code",
      "metadata": {
        "colab": {
          "base_uri": "https://localhost:8080/",
          "height": 165
        },
        "id": "OXIstbesipDG",
        "outputId": "16b9f2bb-048e-482e-f834-1b9b56b21e83"
      },
      "source": [
        "my_tuple.append(6)"
      ],
      "execution_count": 213,
      "outputs": [
        {
          "output_type": "error",
          "ename": "AttributeError",
          "evalue": "ignored",
          "traceback": [
            "\u001b[0;31m---------------------------------------------------------------------------\u001b[0m",
            "\u001b[0;31mAttributeError\u001b[0m                            Traceback (most recent call last)",
            "\u001b[0;32m<ipython-input-213-4a40ddf90b2d>\u001b[0m in \u001b[0;36m<module>\u001b[0;34m\u001b[0m\n\u001b[0;32m----> 1\u001b[0;31m \u001b[0mmy_tuple\u001b[0m\u001b[0;34m.\u001b[0m\u001b[0mappend\u001b[0m\u001b[0;34m(\u001b[0m\u001b[0;36m6\u001b[0m\u001b[0;34m)\u001b[0m\u001b[0;34m\u001b[0m\u001b[0;34m\u001b[0m\u001b[0m\n\u001b[0m",
            "\u001b[0;31mAttributeError\u001b[0m: 'tuple' object has no attribute 'append'"
          ]
        }
      ]
    },
    {
      "cell_type": "code",
      "metadata": {
        "colab": {
          "base_uri": "https://localhost:8080/"
        },
        "id": "AlOVmz6Sizsu",
        "outputId": "33cfd79a-d2ed-4f9a-be92-8b959cf73eb6"
      },
      "source": [
        "print(len(my_tuple))"
      ],
      "execution_count": 214,
      "outputs": [
        {
          "output_type": "stream",
          "name": "stdout",
          "text": [
            "4\n"
          ]
        }
      ]
    },
    {
      "cell_type": "markdown",
      "metadata": {
        "id": "ORc0vJDHjAwS"
      },
      "source": [
        "Set"
      ]
    },
    {
      "cell_type": "code",
      "metadata": {
        "colab": {
          "base_uri": "https://localhost:8080/"
        },
        "id": "RjaxKroji9mw",
        "outputId": "bc70f3ad-8b12-45b8-b23c-f0e1462b2bf1"
      },
      "source": [
        "# set --> Curly brackets\n",
        "my_set = {1,2,3,4,5}\n",
        "print(my_set)\n",
        "type(my_set)"
      ],
      "execution_count": 215,
      "outputs": [
        {
          "output_type": "stream",
          "name": "stdout",
          "text": [
            "{1, 2, 3, 4, 5}\n"
          ]
        },
        {
          "output_type": "execute_result",
          "data": {
            "text/plain": [
              "set"
            ]
          },
          "metadata": {},
          "execution_count": 215
        }
      ]
    },
    {
      "cell_type": "code",
      "metadata": {
        "colab": {
          "base_uri": "https://localhost:8080/",
          "height": 165
        },
        "id": "8ngbZxf0jMXk",
        "outputId": "d62f15b6-3d8f-4875-cf61-c318efe6a0b4"
      },
      "source": [
        "print(my_set[0])"
      ],
      "execution_count": 216,
      "outputs": [
        {
          "output_type": "error",
          "ename": "TypeError",
          "evalue": "ignored",
          "traceback": [
            "\u001b[0;31m---------------------------------------------------------------------------\u001b[0m",
            "\u001b[0;31mTypeError\u001b[0m                                 Traceback (most recent call last)",
            "\u001b[0;32m<ipython-input-216-502d757570ee>\u001b[0m in \u001b[0;36m<module>\u001b[0;34m\u001b[0m\n\u001b[0;32m----> 1\u001b[0;31m \u001b[0mprint\u001b[0m\u001b[0;34m(\u001b[0m\u001b[0mmy_set\u001b[0m\u001b[0;34m[\u001b[0m\u001b[0;36m0\u001b[0m\u001b[0;34m]\u001b[0m\u001b[0;34m)\u001b[0m\u001b[0;34m\u001b[0m\u001b[0;34m\u001b[0m\u001b[0m\n\u001b[0m",
            "\u001b[0;31mTypeError\u001b[0m: 'set' object is not subscriptable"
          ]
        }
      ]
    },
    {
      "cell_type": "code",
      "metadata": {
        "colab": {
          "base_uri": "https://localhost:8080/"
        },
        "id": "65IgJYA5jVzr",
        "outputId": "d33fe420-f3d3-476f-aa6a-6ce4a0001e27"
      },
      "source": [
        "# convert a list to a set\n",
        "list_5 = [4,5,6,7,8]\n",
        "\n",
        "x = set(list_5)\n",
        "print(x)"
      ],
      "execution_count": 217,
      "outputs": [
        {
          "output_type": "stream",
          "name": "stdout",
          "text": [
            "{4, 5, 6, 7, 8}\n"
          ]
        }
      ]
    },
    {
      "cell_type": "code",
      "metadata": {
        "colab": {
          "base_uri": "https://localhost:8080/"
        },
        "id": "_0D3WDuZjrI_",
        "outputId": "fd1e1a39-2601-4424-8a31-c763d384ca2d"
      },
      "source": [
        "# set does not allow duplicate values\n",
        "set_3 = {1,2,3,4,5,1,2,3}\n",
        "print(set_3)"
      ],
      "execution_count": 218,
      "outputs": [
        {
          "output_type": "stream",
          "name": "stdout",
          "text": [
            "{1, 2, 3, 4, 5}\n"
          ]
        }
      ]
    },
    {
      "cell_type": "markdown",
      "metadata": {
        "id": "W6i0Eo53j7Sx"
      },
      "source": [
        "Dictionary"
      ]
    },
    {
      "cell_type": "markdown",
      "metadata": {
        "id": "8zHFSdZdj-o9"
      },
      "source": [
        "Key-Value Pair"
      ]
    },
    {
      "cell_type": "code",
      "metadata": {
        "colab": {
          "base_uri": "https://localhost:8080/"
        },
        "id": "RZJjR0oYj3iK",
        "outputId": "1ef3c0b8-5e2a-4a04-ee5c-189b82596414"
      },
      "source": [
        "my_dictionary = {'name':'David','age':30,'country':'India'}\n",
        "print(my_dictionary)\n",
        "type(my_dictionary)"
      ],
      "execution_count": 219,
      "outputs": [
        {
          "output_type": "stream",
          "name": "stdout",
          "text": [
            "{'name': 'David', 'age': 30, 'country': 'India'}\n"
          ]
        },
        {
          "output_type": "execute_result",
          "data": {
            "text/plain": [
              "dict"
            ]
          },
          "metadata": {},
          "execution_count": 219
        }
      ]
    },
    {
      "cell_type": "code",
      "metadata": {
        "colab": {
          "base_uri": "https://localhost:8080/"
        },
        "id": "gOCf8w7OkVjE",
        "outputId": "3a0b586e-4683-418e-b598-34e373091bb3"
      },
      "source": [
        "print(my_dictionary['name'])\n",
        "print(my_dictionary['age'])\n",
        "print(my_dictionary['country'])"
      ],
      "execution_count": 220,
      "outputs": [
        {
          "output_type": "stream",
          "name": "stdout",
          "text": [
            "David\n",
            "30\n",
            "India\n"
          ]
        }
      ]
    },
    {
      "cell_type": "code",
      "metadata": {
        "colab": {
          "base_uri": "https://localhost:8080/"
        },
        "id": "8AOHTq6bkoq2",
        "outputId": "4102b2ce-b77a-49da-d016-3f66ae961d55"
      },
      "source": [
        "# dictionary does not allow duplicate values\n",
        "dictionary_2 = {'name':'David','age':30,'country':'India','name':'David','age':30,'country':'India'}\n",
        "print(dictionary_2)"
      ],
      "execution_count": 221,
      "outputs": [
        {
          "output_type": "stream",
          "name": "stdout",
          "text": [
            "{'name': 'David', 'age': 30, 'country': 'India'}\n"
          ]
        }
      ]
    },
    {
      "cell_type": "code",
      "metadata": {
        "id": "zwQtG_KYk6q9"
      },
      "source": [],
      "execution_count": 221,
      "outputs": []
    },
    {
      "cell_type": "markdown",
      "metadata": {
        "id": "z8iVDs11-ogJ"
      },
      "source": [
        "# Operators in Python:\n",
        "1. Arithmetic Operators\n",
        "2. Assignment Operators\n",
        "3. Comparison Operators\n",
        "4. Logical Operators\n",
        "5. Identity Operators\n",
        "6. Membership Operators"
      ]
    },
    {
      "cell_type": "markdown",
      "metadata": {
        "id": "5NTu_QYw_212"
      },
      "source": [
        "1. Arithmetic Operators"
      ]
    },
    {
      "cell_type": "code",
      "metadata": {
        "colab": {
          "base_uri": "https://localhost:8080/"
        },
        "id": "CXYtGkkZ59n1",
        "outputId": "addc4675-54bf-46ba-8a30-2ef8d4943704"
      },
      "source": [
        "num_1 = 20\n",
        "num_2 = 10\n",
        "\n",
        "# addition\n",
        "sum = num_1 + num_2\n",
        "print('sum = ',sum)\n",
        "\n",
        "# subtraction\n",
        "diff = num_1 - num_2\n",
        "print('difference = ',diff)\n",
        "\n",
        "# multiplication\n",
        "pro = num_1 * num_2\n",
        "print('product = ',pro)\n",
        "\n",
        "# division\n",
        "quo = num_1 / num_2\n",
        "print('quotient = ',quo)\n",
        "\n",
        "# exponent\n",
        "exp = num_1**num_2   # 20^10\n",
        "print('exponent = ',exp)\n",
        "\n",
        "# modulus\n",
        "mod = num_1 % num_2\n",
        "print('reminder = ',mod)"
      ],
      "execution_count": 222,
      "outputs": [
        {
          "output_type": "stream",
          "name": "stdout",
          "text": [
            "sum =  30\n",
            "difference =  10\n",
            "product =  200\n",
            "quotient =  2.0\n",
            "exponent =  10240000000000\n",
            "reminder =  0\n"
          ]
        }
      ]
    },
    {
      "cell_type": "markdown",
      "metadata": {
        "id": "E12rvExzBIh7"
      },
      "source": [
        "2. Assignment Operators"
      ]
    },
    {
      "cell_type": "markdown",
      "metadata": {
        "id": "K-LS4tHQBiPZ"
      },
      "source": [
        "+=\n",
        "\n",
        "-=\n",
        "\n",
        "*=\n",
        "\n",
        "**=\n",
        "\n",
        "/=\n",
        "\n",
        "%="
      ]
    },
    {
      "cell_type": "code",
      "metadata": {
        "colab": {
          "base_uri": "https://localhost:8080/"
        },
        "id": "YwWiUzaNBDaD",
        "outputId": "97129c7e-94a6-44c3-c97e-110c84622a18"
      },
      "source": [
        "a = 5\n",
        "print(a)"
      ],
      "execution_count": 223,
      "outputs": [
        {
          "output_type": "stream",
          "name": "stdout",
          "text": [
            "5\n"
          ]
        }
      ]
    },
    {
      "cell_type": "code",
      "metadata": {
        "colab": {
          "base_uri": "https://localhost:8080/"
        },
        "id": "LxJoSCRVBPrv",
        "outputId": "449d187b-f3df-465e-ed20-a64c765b3f80"
      },
      "source": [
        "a = 5\n",
        "a += 5   # a = a + 5\n",
        "print(a)"
      ],
      "execution_count": 224,
      "outputs": [
        {
          "output_type": "stream",
          "name": "stdout",
          "text": [
            "10\n"
          ]
        }
      ]
    },
    {
      "cell_type": "code",
      "metadata": {
        "colab": {
          "base_uri": "https://localhost:8080/"
        },
        "id": "F5hy5OvoBY0t",
        "outputId": "3b841c68-5304-4736-f21e-85d87c738821"
      },
      "source": [
        "b = 5\n",
        "b -= 2   # b = b-2\n",
        "print(b)"
      ],
      "execution_count": 225,
      "outputs": [
        {
          "output_type": "stream",
          "name": "stdout",
          "text": [
            "3\n"
          ]
        }
      ]
    },
    {
      "cell_type": "markdown",
      "metadata": {
        "id": "0B6StO-HBv1E"
      },
      "source": [
        "3. Comparison Operators"
      ]
    },
    {
      "cell_type": "code",
      "metadata": {
        "colab": {
          "base_uri": "https://localhost:8080/"
        },
        "id": "9L2aTaKUBftz",
        "outputId": "8e7a8f32-e61f-46be-d569-b08a1f0d7874"
      },
      "source": [
        "a = 5\n",
        "b = 10\n",
        "\n",
        "print(a == b)   # equal to\n",
        "print(a != b)   # not equal to\n",
        "print(a > b)    # greater than\n",
        "print(a < b)\n",
        "print(a <= b)\n",
        "print(a >= b)  "
      ],
      "execution_count": 226,
      "outputs": [
        {
          "output_type": "stream",
          "name": "stdout",
          "text": [
            "False\n",
            "True\n",
            "False\n",
            "True\n",
            "True\n",
            "False\n"
          ]
        }
      ]
    },
    {
      "cell_type": "markdown",
      "metadata": {
        "id": "5vG_Gp-DCc-u"
      },
      "source": [
        "4. Logical Operators"
      ]
    },
    {
      "cell_type": "markdown",
      "metadata": {
        "id": "0k1QjwN7Cfx5"
      },
      "source": [
        "and\n",
        "\n",
        "or\n",
        "\n",
        "not"
      ]
    },
    {
      "cell_type": "code",
      "metadata": {
        "colab": {
          "base_uri": "https://localhost:8080/"
        },
        "id": "XKVEPY3UCVqy",
        "outputId": "5b1d48bb-daf5-4745-92eb-4e2ec6f9843b"
      },
      "source": [
        "a = 10\n",
        "\n",
        "print( a>20 and a>5)\n",
        "print( a>20 or a>5)\n",
        "print( not( a>8 and a>5))"
      ],
      "execution_count": 227,
      "outputs": [
        {
          "output_type": "stream",
          "name": "stdout",
          "text": [
            "False\n",
            "True\n",
            "False\n"
          ]
        }
      ]
    },
    {
      "cell_type": "markdown",
      "metadata": {
        "id": "xzOpIj7eDKrz"
      },
      "source": [
        "5. Identity Operator:\n",
        "\n",
        "is \n",
        "\n",
        "is not"
      ]
    },
    {
      "cell_type": "code",
      "metadata": {
        "colab": {
          "base_uri": "https://localhost:8080/"
        },
        "id": "005EmRZMDERy",
        "outputId": "a0e77204-ac35-43c2-9a27-35e16848a3e0"
      },
      "source": [
        "x = 5\n",
        "y = 5\n",
        "\n",
        "print(x is y)"
      ],
      "execution_count": 228,
      "outputs": [
        {
          "output_type": "stream",
          "name": "stdout",
          "text": [
            "True\n"
          ]
        }
      ]
    },
    {
      "cell_type": "code",
      "metadata": {
        "colab": {
          "base_uri": "https://localhost:8080/"
        },
        "id": "ZQy2V1ViDT5x",
        "outputId": "5210a42d-246e-4d1f-b947-5da262c53430"
      },
      "source": [
        "x = 5\n",
        "y = 10\n",
        "\n",
        "print(x is y)"
      ],
      "execution_count": 229,
      "outputs": [
        {
          "output_type": "stream",
          "name": "stdout",
          "text": [
            "False\n"
          ]
        }
      ]
    },
    {
      "cell_type": "code",
      "metadata": {
        "colab": {
          "base_uri": "https://localhost:8080/"
        },
        "id": "bSZFIncfDYVc",
        "outputId": "0c203621-1f1e-459d-f97d-1ccada2d85fd"
      },
      "source": [
        "x = 5\n",
        "y = 5\n",
        "\n",
        "print(x is not y)"
      ],
      "execution_count": 230,
      "outputs": [
        {
          "output_type": "stream",
          "name": "stdout",
          "text": [
            "False\n"
          ]
        }
      ]
    },
    {
      "cell_type": "code",
      "metadata": {
        "colab": {
          "base_uri": "https://localhost:8080/"
        },
        "id": "uVAX_AejDcsX",
        "outputId": "3af3850e-18c4-4076-9903-513d1c142208"
      },
      "source": [
        "x = 5\n",
        "y = 10\n",
        "\n",
        "print(x is not y)"
      ],
      "execution_count": 231,
      "outputs": [
        {
          "output_type": "stream",
          "name": "stdout",
          "text": [
            "True\n"
          ]
        }
      ]
    },
    {
      "cell_type": "markdown",
      "metadata": {
        "id": "mvIH9bSEDlSw"
      },
      "source": [
        "6. Membership Operator:\n",
        "\n",
        "in \n",
        "\n",
        "not in"
      ]
    },
    {
      "cell_type": "code",
      "metadata": {
        "colab": {
          "base_uri": "https://localhost:8080/"
        },
        "id": "IkUTVRTmDfic",
        "outputId": "d1398477-6f42-44e8-d349-1ddf0608d5ec"
      },
      "source": [
        "a = 5\n",
        "b =10\n",
        "\n",
        "c = [1,2,3,4,5]\n",
        "print( a in c)\n",
        "print( b in c)"
      ],
      "execution_count": 232,
      "outputs": [
        {
          "output_type": "stream",
          "name": "stdout",
          "text": [
            "True\n",
            "False\n"
          ]
        }
      ]
    },
    {
      "cell_type": "code",
      "metadata": {
        "colab": {
          "base_uri": "https://localhost:8080/"
        },
        "id": "LOYpdrbnD4Fb",
        "outputId": "64a1548c-b231-4dcd-ea0d-a3d2b8e160c0"
      },
      "source": [
        "a = 5\n",
        "b =10\n",
        "\n",
        "c = [1,2,3,4,5]\n",
        "print( a not in c)\n",
        "print( b not in c)"
      ],
      "execution_count": 233,
      "outputs": [
        {
          "output_type": "stream",
          "name": "stdout",
          "text": [
            "False\n",
            "True\n"
          ]
        }
      ]
    },
    {
      "cell_type": "code",
      "source": [],
      "metadata": {
        "id": "iQg0UqjnnggM"
      },
      "execution_count": null,
      "outputs": []
    },
    {
      "cell_type": "markdown",
      "metadata": {
        "id": "9yPP5tJoRu3j"
      },
      "source": [
        "#simple if else statement"
      ]
    },
    {
      "cell_type": "code",
      "metadata": {
        "colab": {
          "base_uri": "https://localhost:8080/"
        },
        "id": "aGRxtmdPQgBb",
        "outputId": "f90436e0-dd24-40a4-f3ba-644ee4a6ca49"
      },
      "source": [
        "a = 30\n",
        "b = 50\n",
        "\n",
        "if (a>b):\n",
        "  print('a is the greatest number')\n",
        "else:\n",
        "  print('b is the greatest number')"
      ],
      "execution_count": null,
      "outputs": [
        {
          "output_type": "stream",
          "text": [
            "b is the greatest number\n"
          ],
          "name": "stdout"
        }
      ]
    },
    {
      "cell_type": "code",
      "metadata": {
        "colab": {
          "base_uri": "https://localhost:8080/"
        },
        "id": "nUFrXZovSGIZ",
        "outputId": "6ecee5ab-551c-4cf4-cc2d-0d9c541ebd7f"
      },
      "source": [
        "a = int(input('Enter the first number : '))\n",
        "b = int(input('Enter the second number : '))\n",
        "\n",
        "if (a>b):\n",
        "  print('First number is the greatest')\n",
        "else:\n",
        "  print('Second number is the greatest')"
      ],
      "execution_count": null,
      "outputs": [
        {
          "output_type": "stream",
          "text": [
            "Enter the first number : 16\n",
            "Enter the second number : 20\n",
            "Second number is the greatest\n"
          ],
          "name": "stdout"
        }
      ]
    },
    {
      "cell_type": "markdown",
      "metadata": {
        "id": "GJixx9xSSoo-"
      },
      "source": [
        "if elif else statement"
      ]
    },
    {
      "cell_type": "code",
      "metadata": {
        "colab": {
          "base_uri": "https://localhost:8080/"
        },
        "id": "y_LUudPwSX6I",
        "outputId": "d4e25b8f-cba9-405a-b34e-d003b14e277a"
      },
      "source": [
        "a = 15\n",
        "b = 25\n",
        "c = 30\n",
        "\n",
        "if (b<a>c):\n",
        "  print('a is the greatest number')\n",
        "elif (a<b>c):\n",
        "  print('b is the greatest number')\n",
        "else:\n",
        "  print('c is the greatest number')\n"
      ],
      "execution_count": null,
      "outputs": [
        {
          "output_type": "stream",
          "text": [
            "c is the greatest number\n"
          ],
          "name": "stdout"
        }
      ]
    },
    {
      "cell_type": "markdown",
      "metadata": {
        "id": "cr5QqpJBTe2N"
      },
      "source": [
        "nested if statement"
      ]
    },
    {
      "cell_type": "code",
      "metadata": {
        "colab": {
          "base_uri": "https://localhost:8080/"
        },
        "id": "YXooMdY1Tb8Z",
        "outputId": "ea061bc4-ec14-4383-d342-abbf1d1419aa"
      },
      "source": [
        "a = 20\n",
        "b = 40\n",
        "c = 60\n",
        "\n",
        "if (a>b):\n",
        "  if (a>c):\n",
        "    print('a is the greatest number')\n",
        "  else:\n",
        "    print('c is the greatest number')\n",
        "else:\n",
        "  if (b>c):\n",
        "    print('b is the greatest number')\n",
        "  else:\n",
        "    print('c is the greatest number') "
      ],
      "execution_count": null,
      "outputs": [
        {
          "output_type": "stream",
          "text": [
            "c is the greatest number\n"
          ],
          "name": "stdout"
        }
      ]
    },
    {
      "cell_type": "code",
      "metadata": {
        "id": "d1jIWFJQUaa_"
      },
      "source": [],
      "execution_count": null,
      "outputs": []
    },
    {
      "cell_type": "code",
      "source": [],
      "metadata": {
        "id": "EwfjSKiIoDFC"
      },
      "execution_count": null,
      "outputs": []
    },
    {
      "cell_type": "markdown",
      "metadata": {
        "id": "l169EevJ4PYv"
      },
      "source": [
        "#For loop"
      ]
    },
    {
      "cell_type": "code",
      "metadata": {
        "colab": {
          "base_uri": "https://localhost:8080/"
        },
        "id": "uy9loXNN3yon",
        "outputId": "d77170ab-5d35-45ba-ca50-8dea1a0c52b0"
      },
      "source": [
        "laptop1 = int(input('Enter the price of the laptop : '))\n",
        "laptop2 = int(input('Enter the price of the laptop : '))\n",
        "laptop3 = int(input('Enter the price of the laptop : '))\n",
        "laptop4 = int(input('Enter the price of the laptop : '))\n",
        "laptop5 = int(input('Enter the price of the laptop : '))"
      ],
      "execution_count": 234,
      "outputs": [
        {
          "name": "stdout",
          "output_type": "stream",
          "text": [
            "Enter the price of the laptop : 552\n",
            "Enter the price of the laptop : 54\n",
            "Enter the price of the laptop : 5151\n",
            "Enter the price of the laptop : 656151\n",
            "Enter the price of the laptop : 55151\n"
          ]
        }
      ]
    },
    {
      "cell_type": "code",
      "metadata": {
        "colab": {
          "base_uri": "https://localhost:8080/"
        },
        "id": "W0YAxl-e4XfP",
        "outputId": "eeb60046-a2df-4d56-c6eb-2b0b7174aa76"
      },
      "source": [
        "for i in range(7):    # 0,1,2,3,4,5,6\n",
        "  laptop_price = int(input('Enter the price of the laptop : '))"
      ],
      "execution_count": 236,
      "outputs": [
        {
          "name": "stdout",
          "output_type": "stream",
          "text": [
            "Enter the price of the laptop : 515\n",
            "Enter the price of the laptop : 26\n",
            "Enter the price of the laptop : 62\n",
            "Enter the price of the laptop : 26\n",
            "Enter the price of the laptop : 562\n",
            "Enter the price of the laptop : 52\n",
            "Enter the price of the laptop : 561\n"
          ]
        }
      ]
    },
    {
      "cell_type": "code",
      "metadata": {
        "colab": {
          "base_uri": "https://localhost:8080/"
        },
        "id": "-9bvL0U_5QnH",
        "outputId": "3d941cb4-2c39-425c-9b25-af69c1a7d5a1"
      },
      "source": [
        "numbers = [50, 100, 150, 200]\n",
        "\n",
        "print(numbers[0])\n",
        "print(numbers[1])\n",
        "print(numbers[2])\n",
        "print(numbers[3])"
      ],
      "execution_count": 237,
      "outputs": [
        {
          "output_type": "stream",
          "name": "stdout",
          "text": [
            "50\n",
            "100\n",
            "150\n",
            "200\n"
          ]
        }
      ]
    },
    {
      "cell_type": "code",
      "metadata": {
        "colab": {
          "base_uri": "https://localhost:8080/"
        },
        "id": "I2OmCKt_6J3g",
        "outputId": "8e1dbaa7-22fd-41b4-fdae-2f27cfc5a894"
      },
      "source": [
        "\n",
        "numbers = [50, 100, 150, 200]\n",
        "\n",
        "for i in numbers:\n",
        "  print(i)"
      ],
      "execution_count": 238,
      "outputs": [
        {
          "output_type": "stream",
          "name": "stdout",
          "text": [
            "50\n",
            "100\n",
            "150\n",
            "200\n"
          ]
        }
      ]
    },
    {
      "cell_type": "markdown",
      "metadata": {
        "id": "LZw0F_Ga6aeC"
      },
      "source": [
        "While Loop"
      ]
    },
    {
      "cell_type": "markdown",
      "metadata": {
        "id": "mjmPzJiV6src"
      },
      "source": [
        "while condition:\n",
        "\n",
        "    statement"
      ]
    },
    {
      "cell_type": "code",
      "metadata": {
        "colab": {
          "base_uri": "https://localhost:8080/"
        },
        "id": "7UCze9SW6RO6",
        "outputId": "7d639aeb-d61c-4041-b86e-47f32080ad23"
      },
      "source": [
        "i = 0\n",
        "\n",
        "while i<10:\n",
        "  print(i)\n",
        "  i += 1   "
      ],
      "execution_count": 239,
      "outputs": [
        {
          "output_type": "stream",
          "name": "stdout",
          "text": [
            "0\n",
            "1\n",
            "2\n",
            "3\n",
            "4\n",
            "5\n",
            "6\n",
            "7\n",
            "8\n",
            "9\n"
          ]
        }
      ]
    },
    {
      "cell_type": "code",
      "metadata": {
        "id": "5aYvGqVj7Lxw"
      },
      "source": [
        "i = 5\n",
        "\n",
        "while i<3:\n",
        "  print(i)\n",
        "  i +=1"
      ],
      "execution_count": 241,
      "outputs": []
    },
    {
      "cell_type": "code",
      "source": [],
      "metadata": {
        "id": "uwrITuV-pSoz"
      },
      "execution_count": null,
      "outputs": []
    },
    {
      "cell_type": "markdown",
      "metadata": {
        "id": "P6doAW5l8ba2"
      },
      "source": [
        "#Functions: \n",
        "\n",
        "Function is a block of code that can be reused in a Program"
      ]
    },
    {
      "cell_type": "markdown",
      "metadata": {
        "id": "3YuBEtBR86X8"
      },
      "source": [
        "Factorial of a Number"
      ]
    },
    {
      "cell_type": "markdown",
      "metadata": {
        "id": "Z8ySi-x58_8w"
      },
      "source": [
        "Factorial of a number is the product of all the positive integers less than or equal to the given number"
      ]
    },
    {
      "cell_type": "markdown",
      "metadata": {
        "id": "3tUJEQyC9LLh"
      },
      "source": [
        "Factorial of 5 = 5 x 4 x 3 x 2 x 1 = 120"
      ]
    },
    {
      "cell_type": "code",
      "metadata": {
        "colab": {
          "base_uri": "https://localhost:8080/"
        },
        "id": "Z3F1xOof8LbY",
        "outputId": "5db08d9a-80f2-4af5-d511-0608f8db91f9"
      },
      "source": [
        "number = int(input(' Enter a number to find its factorial : '))\n",
        "\n",
        "factorial = 1\n",
        "\n",
        "if number == 0:\n",
        "  print(' The Factorial of 0 is 1')\n",
        "\n",
        "else:\n",
        "  for i in range(1, number+1):    \n",
        "    factorial = factorial*i\n",
        "  print('The factorial of ',number,' is',factorial)   "
      ],
      "execution_count": 242,
      "outputs": [
        {
          "output_type": "stream",
          "name": "stdout",
          "text": [
            " Enter a number to find its factorial : 52\n",
            "The factorial of  52  is 80658175170943878571660636856403766975289505440883277824000000000000\n"
          ]
        }
      ]
    },
    {
      "cell_type": "markdown",
      "metadata": {
        "id": "3Rv9GbOh-7XI"
      },
      "source": [
        "Factoraial Function"
      ]
    },
    {
      "cell_type": "code",
      "metadata": {
        "id": "pZH6ilR8-uQh"
      },
      "source": [
        "def factorial_value(num):\n",
        "\n",
        "  factorial = 1\n",
        "\n",
        "  if num == 0:\n",
        "    return factorial\n",
        "\n",
        "  else:\n",
        "    for i in range(1, num+1):\n",
        "      factorial = factorial*i\n",
        "    return factorial"
      ],
      "execution_count": 243,
      "outputs": []
    },
    {
      "cell_type": "code",
      "metadata": {
        "colab": {
          "base_uri": "https://localhost:8080/"
        },
        "id": "Nwf8f6su_ige",
        "outputId": "ad15b3d1-a1fe-4110-caf9-ff20ab218aab"
      },
      "source": [
        "print(factorial_value(5))"
      ],
      "execution_count": 244,
      "outputs": [
        {
          "output_type": "stream",
          "name": "stdout",
          "text": [
            "120\n"
          ]
        }
      ]
    },
    {
      "cell_type": "code",
      "metadata": {
        "colab": {
          "base_uri": "https://localhost:8080/"
        },
        "id": "YXEVZyna_oKL",
        "outputId": "0edcc58d-59db-4bee-98b7-cefeb8dc7775"
      },
      "source": [
        "print(factorial_value(10))"
      ],
      "execution_count": 245,
      "outputs": [
        {
          "output_type": "stream",
          "name": "stdout",
          "text": [
            "3628800\n"
          ]
        }
      ]
    },
    {
      "cell_type": "code",
      "metadata": {
        "colab": {
          "base_uri": "https://localhost:8080/"
        },
        "id": "Gk0kwebb_y3U",
        "outputId": "77968b23-bd74-4a1f-af50-10080e051cd4"
      },
      "source": [
        "print(factorial_value(6))"
      ],
      "execution_count": 246,
      "outputs": [
        {
          "output_type": "stream",
          "name": "stdout",
          "text": [
            "720\n"
          ]
        }
      ]
    }
  ]
}